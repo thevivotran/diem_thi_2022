{
 "cells": [
  {
   "cell_type": "markdown",
   "id": "eaedfec4",
   "metadata": {},
   "source": [
    "## Khai báo thư viện"
   ]
  },
  {
   "cell_type": "code",
   "execution_count": 1,
   "id": "a955263d",
   "metadata": {},
   "outputs": [],
   "source": [
    "import requests\n",
    "import pandas as pd\n",
    "import numpy as np"
   ]
  },
  {
   "cell_type": "markdown",
   "id": "843ccd61",
   "metadata": {},
   "source": [
    "## Crawl dữ liệu điểm thi 2022 và xử lý"
   ]
  },
  {
   "cell_type": "code",
   "execution_count": 2,
   "id": "e7a20f2e",
   "metadata": {},
   "outputs": [],
   "source": [
    "file = requests.get('https://raw.githubusercontent.com/anhdung98/diem_thi_2022/main/diem_thi_thpt_2022.csv').text"
   ]
  },
  {
   "cell_type": "code",
   "execution_count": 3,
   "id": "ac448076",
   "metadata": {},
   "outputs": [],
   "source": [
    "file = [line.split(',') for line in file.splitlines()]"
   ]
  },
  {
   "cell_type": "code",
   "execution_count": 4,
   "id": "0cfbf57b",
   "metadata": {},
   "outputs": [],
   "source": [
    "df = pd.DataFrame(file[1:], columns=file[0])"
   ]
  },
  {
   "cell_type": "code",
   "execution_count": 5,
   "id": "025d7445",
   "metadata": {},
   "outputs": [
    {
     "data": {
      "text/html": [
       "<div>\n",
       "<style scoped>\n",
       "    .dataframe tbody tr th:only-of-type {\n",
       "        vertical-align: middle;\n",
       "    }\n",
       "\n",
       "    .dataframe tbody tr th {\n",
       "        vertical-align: top;\n",
       "    }\n",
       "\n",
       "    .dataframe thead th {\n",
       "        text-align: right;\n",
       "    }\n",
       "</style>\n",
       "<table border=\"1\" class=\"dataframe\">\n",
       "  <thead>\n",
       "    <tr style=\"text-align: right;\">\n",
       "      <th></th>\n",
       "      <th>sbd</th>\n",
       "      <th>toan</th>\n",
       "      <th>ngu_van</th>\n",
       "      <th>ngoai_ngu</th>\n",
       "      <th>vat_li</th>\n",
       "      <th>hoa_hoc</th>\n",
       "      <th>sinh_hoc</th>\n",
       "      <th>lich_su</th>\n",
       "      <th>dia_li</th>\n",
       "      <th>gdcd</th>\n",
       "    </tr>\n",
       "  </thead>\n",
       "  <tbody>\n",
       "    <tr>\n",
       "      <th>0</th>\n",
       "      <td>01000001</td>\n",
       "      <td>3.6</td>\n",
       "      <td>5.0</td>\n",
       "      <td>4.0</td>\n",
       "      <td></td>\n",
       "      <td></td>\n",
       "      <td></td>\n",
       "      <td>2.75</td>\n",
       "      <td>6.0</td>\n",
       "      <td>8.75</td>\n",
       "    </tr>\n",
       "    <tr>\n",
       "      <th>1</th>\n",
       "      <td>01000002</td>\n",
       "      <td>8.4</td>\n",
       "      <td>6.75</td>\n",
       "      <td>7.6</td>\n",
       "      <td></td>\n",
       "      <td></td>\n",
       "      <td></td>\n",
       "      <td>8.5</td>\n",
       "      <td>7.5</td>\n",
       "      <td>8.25</td>\n",
       "    </tr>\n",
       "    <tr>\n",
       "      <th>2</th>\n",
       "      <td>01000003</td>\n",
       "      <td>5.8</td>\n",
       "      <td>7.5</td>\n",
       "      <td>5.0</td>\n",
       "      <td></td>\n",
       "      <td></td>\n",
       "      <td></td>\n",
       "      <td>7.25</td>\n",
       "      <td>5.5</td>\n",
       "      <td>8.75</td>\n",
       "    </tr>\n",
       "    <tr>\n",
       "      <th>3</th>\n",
       "      <td>01000004</td>\n",
       "      <td>7.4</td>\n",
       "      <td>7.5</td>\n",
       "      <td>8.6</td>\n",
       "      <td></td>\n",
       "      <td></td>\n",
       "      <td></td>\n",
       "      <td>7.5</td>\n",
       "      <td>6.5</td>\n",
       "      <td>7.5</td>\n",
       "    </tr>\n",
       "    <tr>\n",
       "      <th>4</th>\n",
       "      <td>01000005</td>\n",
       "      <td>7.2</td>\n",
       "      <td>8.5</td>\n",
       "      <td>9.0</td>\n",
       "      <td></td>\n",
       "      <td></td>\n",
       "      <td></td>\n",
       "      <td>8.0</td>\n",
       "      <td>8.5</td>\n",
       "      <td>8.25</td>\n",
       "    </tr>\n",
       "  </tbody>\n",
       "</table>\n",
       "</div>"
      ],
      "text/plain": [
       "        sbd toan ngu_van ngoai_ngu vat_li hoa_hoc sinh_hoc lich_su dia_li  \\\n",
       "0  01000001  3.6     5.0       4.0                            2.75    6.0   \n",
       "1  01000002  8.4    6.75       7.6                             8.5    7.5   \n",
       "2  01000003  5.8     7.5       5.0                            7.25    5.5   \n",
       "3  01000004  7.4     7.5       8.6                             7.5    6.5   \n",
       "4  01000005  7.2     8.5       9.0                             8.0    8.5   \n",
       "\n",
       "   gdcd  \n",
       "0  8.75  \n",
       "1  8.25  \n",
       "2  8.75  \n",
       "3   7.5  \n",
       "4  8.25  "
      ]
     },
     "execution_count": 5,
     "metadata": {},
     "output_type": "execute_result"
    }
   ],
   "source": [
    "df.head()"
   ]
  },
  {
   "cell_type": "markdown",
   "id": "c828af79",
   "metadata": {},
   "source": [
    "## Chuyển kiểu dữ liệu từ String sang Numeric và xuất mã tỉnh"
   ]
  },
  {
   "cell_type": "code",
   "execution_count": 6,
   "id": "4c2f97ce",
   "metadata": {},
   "outputs": [],
   "source": [
    "subjects = ['toan', 'ngu_van', 'ngoai_ngu', 'vat_li', 'hoa_hoc', 'sinh_hoc', 'lich_su', 'dia_li', 'gdcd']"
   ]
  },
  {
   "cell_type": "code",
   "execution_count": 7,
   "id": "c934aaf7",
   "metadata": {},
   "outputs": [],
   "source": [
    "for subject in subjects:\n",
    "    df[subject] = pd.to_numeric(df[subject], errors='coerce')"
   ]
  },
  {
   "cell_type": "code",
   "execution_count": 8,
   "id": "616870a8",
   "metadata": {},
   "outputs": [],
   "source": [
    "df['ma_tinh'] = df.apply(lambda row: str(row['sbd'])[:2], axis=1)"
   ]
  },
  {
   "cell_type": "code",
   "execution_count": 9,
   "id": "c6687eca",
   "metadata": {},
   "outputs": [
    {
     "data": {
      "text/html": [
       "<div>\n",
       "<style scoped>\n",
       "    .dataframe tbody tr th:only-of-type {\n",
       "        vertical-align: middle;\n",
       "    }\n",
       "\n",
       "    .dataframe tbody tr th {\n",
       "        vertical-align: top;\n",
       "    }\n",
       "\n",
       "    .dataframe thead th {\n",
       "        text-align: right;\n",
       "    }\n",
       "</style>\n",
       "<table border=\"1\" class=\"dataframe\">\n",
       "  <thead>\n",
       "    <tr style=\"text-align: right;\">\n",
       "      <th></th>\n",
       "      <th>sbd</th>\n",
       "      <th>toan</th>\n",
       "      <th>ngu_van</th>\n",
       "      <th>ngoai_ngu</th>\n",
       "      <th>vat_li</th>\n",
       "      <th>hoa_hoc</th>\n",
       "      <th>sinh_hoc</th>\n",
       "      <th>lich_su</th>\n",
       "      <th>dia_li</th>\n",
       "      <th>gdcd</th>\n",
       "      <th>ma_tinh</th>\n",
       "    </tr>\n",
       "  </thead>\n",
       "  <tbody>\n",
       "    <tr>\n",
       "      <th>0</th>\n",
       "      <td>01000001</td>\n",
       "      <td>3.6</td>\n",
       "      <td>5.00</td>\n",
       "      <td>4.0</td>\n",
       "      <td>NaN</td>\n",
       "      <td>NaN</td>\n",
       "      <td>NaN</td>\n",
       "      <td>2.75</td>\n",
       "      <td>6.0</td>\n",
       "      <td>8.75</td>\n",
       "      <td>01</td>\n",
       "    </tr>\n",
       "    <tr>\n",
       "      <th>1</th>\n",
       "      <td>01000002</td>\n",
       "      <td>8.4</td>\n",
       "      <td>6.75</td>\n",
       "      <td>7.6</td>\n",
       "      <td>NaN</td>\n",
       "      <td>NaN</td>\n",
       "      <td>NaN</td>\n",
       "      <td>8.50</td>\n",
       "      <td>7.5</td>\n",
       "      <td>8.25</td>\n",
       "      <td>01</td>\n",
       "    </tr>\n",
       "    <tr>\n",
       "      <th>2</th>\n",
       "      <td>01000003</td>\n",
       "      <td>5.8</td>\n",
       "      <td>7.50</td>\n",
       "      <td>5.0</td>\n",
       "      <td>NaN</td>\n",
       "      <td>NaN</td>\n",
       "      <td>NaN</td>\n",
       "      <td>7.25</td>\n",
       "      <td>5.5</td>\n",
       "      <td>8.75</td>\n",
       "      <td>01</td>\n",
       "    </tr>\n",
       "    <tr>\n",
       "      <th>3</th>\n",
       "      <td>01000004</td>\n",
       "      <td>7.4</td>\n",
       "      <td>7.50</td>\n",
       "      <td>8.6</td>\n",
       "      <td>NaN</td>\n",
       "      <td>NaN</td>\n",
       "      <td>NaN</td>\n",
       "      <td>7.50</td>\n",
       "      <td>6.5</td>\n",
       "      <td>7.50</td>\n",
       "      <td>01</td>\n",
       "    </tr>\n",
       "    <tr>\n",
       "      <th>4</th>\n",
       "      <td>01000005</td>\n",
       "      <td>7.2</td>\n",
       "      <td>8.50</td>\n",
       "      <td>9.0</td>\n",
       "      <td>NaN</td>\n",
       "      <td>NaN</td>\n",
       "      <td>NaN</td>\n",
       "      <td>8.00</td>\n",
       "      <td>8.5</td>\n",
       "      <td>8.25</td>\n",
       "      <td>01</td>\n",
       "    </tr>\n",
       "  </tbody>\n",
       "</table>\n",
       "</div>"
      ],
      "text/plain": [
       "        sbd  toan  ngu_van  ngoai_ngu  vat_li  hoa_hoc  sinh_hoc  lich_su  \\\n",
       "0  01000001   3.6     5.00        4.0     NaN      NaN       NaN     2.75   \n",
       "1  01000002   8.4     6.75        7.6     NaN      NaN       NaN     8.50   \n",
       "2  01000003   5.8     7.50        5.0     NaN      NaN       NaN     7.25   \n",
       "3  01000004   7.4     7.50        8.6     NaN      NaN       NaN     7.50   \n",
       "4  01000005   7.2     8.50        9.0     NaN      NaN       NaN     8.00   \n",
       "\n",
       "   dia_li  gdcd ma_tinh  \n",
       "0     6.0  8.75      01  \n",
       "1     7.5  8.25      01  \n",
       "2     5.5  8.75      01  \n",
       "3     6.5  7.50      01  \n",
       "4     8.5  8.25      01  "
      ]
     },
     "execution_count": 9,
     "metadata": {},
     "output_type": "execute_result"
    }
   ],
   "source": [
    "df.head()"
   ]
  },
  {
   "cell_type": "markdown",
   "id": "370bea1d",
   "metadata": {},
   "source": [
    "## Kiểm tra phân phối 3 môn Toán, Lý, Ngoại Ngữ"
   ]
  },
  {
   "cell_type": "code",
   "execution_count": 10,
   "id": "c90c3779",
   "metadata": {},
   "outputs": [
    {
     "data": {
      "text/plain": [
       "<AxesSubplot:>"
      ]
     },
     "execution_count": 10,
     "metadata": {},
     "output_type": "execute_result"
    },
    {
     "data": {
      "image/png": "[encoded data removed]",
      "text/plain": [
       "<Figure size 1080x360 with 1 Axes>"
      ]
     },
     "metadata": {
      "needs_background": "light"
     },
     "output_type": "display_data"
    }
   ],
   "source": [
    "df.toan.hist(bins = 51,figsize = (15,5))"
   ]
  },
  {
   "cell_type": "code",
   "execution_count": 11,
   "id": "12d32ebd",
   "metadata": {},
   "outputs": [
    {
     "data": {
      "text/plain": [
       "<AxesSubplot:>"
      ]
     },
     "execution_count": 11,
     "metadata": {},
     "output_type": "execute_result"
    },
    {
     "data": {
      "image/png": "[encoded data removed]",
      "text/plain": [
       "<Figure size 1080x360 with 1 Axes>"
      ]
     },
     "metadata": {
      "needs_background": "light"
     },
     "output_type": "display_data"
    }
   ],
   "source": [
    "df.vat_li.hist(bins=41, figsize=(15,5))"
   ]
  },
  {
   "cell_type": "code",
   "execution_count": 12,
   "id": "71c3ec19",
   "metadata": {},
   "outputs": [
    {
     "data": {
      "text/plain": [
       "<AxesSubplot:>"
      ]
     },
     "execution_count": 12,
     "metadata": {},
     "output_type": "execute_result"
    },
    {
     "data": {
      "image/png": "[encoded data removed]",
      "text/plain": [
       "<Figure size 1080x360 with 1 Axes>"
      ]
     },
     "metadata": {
      "needs_background": "light"
     },
     "output_type": "display_data"
    }
   ],
   "source": [
    "df.ngoai_ngu.hist(bins = 51, figsize = (15,5))"
   ]
  },
  {
   "cell_type": "markdown",
   "id": "314d3ba3",
   "metadata": {},
   "source": [
    "## So sánh phân phối môn Toán của Hà Nội, Hồ Chí Minh và Khánh Hòa"
   ]
  },
  {
   "cell_type": "code",
   "execution_count": 13,
   "id": "bd4d9257",
   "metadata": {
    "scrolled": false
   },
   "outputs": [
    {
     "data": {
      "image/png": "[encoded data removed]",
      "text/plain": [
       "<Figure size 1080x360 with 1 Axes>"
      ]
     },
     "metadata": {
      "needs_background": "light"
     },
     "output_type": "display_data"
    }
   ],
   "source": [
    "for ma_tinh in ['01', '02', '41']:\n",
    "    df[df['ma_tinh'] == ma_tinh].toan.hist(bins = 51, figsize = (15,5))"
   ]
  },
  {
   "cell_type": "markdown",
   "id": "b88c4958",
   "metadata": {},
   "source": [
    "## Tính điểm Khối A00 và A01"
   ]
  },
  {
   "cell_type": "code",
   "execution_count": 14,
   "id": "1c2d9304",
   "metadata": {},
   "outputs": [],
   "source": [
    "def comboundScore(row):\n",
    "    toan = row.toan\n",
    "    li = row.vat_li\n",
    "    hoa = row.hoa_hoc\n",
    "    anh = row.ngoai_ngu\n",
    "    \n",
    "    if pd.notna(toan) is True and pd.notna(li) is True and pd.notna(hoa) is True:\n",
    "        a00 = toan + li + hoa\n",
    "    else:\n",
    "        a00 = np.NaN\n",
    "        \n",
    "    if pd.notna(toan) is True and pd.notna(li) is True and pd.notna(anh) is True:\n",
    "        a01 = toan + li + anh\n",
    "    else:\n",
    "        a01 = np.NaN\n",
    "        \n",
    "    return a00, a01"
   ]
  },
  {
   "cell_type": "code",
   "execution_count": 15,
   "id": "55148268",
   "metadata": {},
   "outputs": [],
   "source": [
    "df['a00'], df['a01'] = zip(*df.apply(comboundScore, axis=1))"
   ]
  },
  {
   "cell_type": "code",
   "execution_count": 16,
   "id": "afc8fa93",
   "metadata": {},
   "outputs": [
    {
     "data": {
      "text/html": [
       "<div>\n",
       "<style scoped>\n",
       "    .dataframe tbody tr th:only-of-type {\n",
       "        vertical-align: middle;\n",
       "    }\n",
       "\n",
       "    .dataframe tbody tr th {\n",
       "        vertical-align: top;\n",
       "    }\n",
       "\n",
       "    .dataframe thead th {\n",
       "        text-align: right;\n",
       "    }\n",
       "</style>\n",
       "<table border=\"1\" class=\"dataframe\">\n",
       "  <thead>\n",
       "    <tr style=\"text-align: right;\">\n",
       "      <th></th>\n",
       "      <th>sbd</th>\n",
       "      <th>toan</th>\n",
       "      <th>ngu_van</th>\n",
       "      <th>ngoai_ngu</th>\n",
       "      <th>vat_li</th>\n",
       "      <th>hoa_hoc</th>\n",
       "      <th>sinh_hoc</th>\n",
       "      <th>lich_su</th>\n",
       "      <th>dia_li</th>\n",
       "      <th>gdcd</th>\n",
       "      <th>ma_tinh</th>\n",
       "      <th>a00</th>\n",
       "      <th>a01</th>\n",
       "    </tr>\n",
       "  </thead>\n",
       "  <tbody>\n",
       "    <tr>\n",
       "      <th>0</th>\n",
       "      <td>01000001</td>\n",
       "      <td>3.6</td>\n",
       "      <td>5.00</td>\n",
       "      <td>4.0</td>\n",
       "      <td>NaN</td>\n",
       "      <td>NaN</td>\n",
       "      <td>NaN</td>\n",
       "      <td>2.75</td>\n",
       "      <td>6.0</td>\n",
       "      <td>8.75</td>\n",
       "      <td>01</td>\n",
       "      <td>NaN</td>\n",
       "      <td>NaN</td>\n",
       "    </tr>\n",
       "    <tr>\n",
       "      <th>1</th>\n",
       "      <td>01000002</td>\n",
       "      <td>8.4</td>\n",
       "      <td>6.75</td>\n",
       "      <td>7.6</td>\n",
       "      <td>NaN</td>\n",
       "      <td>NaN</td>\n",
       "      <td>NaN</td>\n",
       "      <td>8.50</td>\n",
       "      <td>7.5</td>\n",
       "      <td>8.25</td>\n",
       "      <td>01</td>\n",
       "      <td>NaN</td>\n",
       "      <td>NaN</td>\n",
       "    </tr>\n",
       "    <tr>\n",
       "      <th>2</th>\n",
       "      <td>01000003</td>\n",
       "      <td>5.8</td>\n",
       "      <td>7.50</td>\n",
       "      <td>5.0</td>\n",
       "      <td>NaN</td>\n",
       "      <td>NaN</td>\n",
       "      <td>NaN</td>\n",
       "      <td>7.25</td>\n",
       "      <td>5.5</td>\n",
       "      <td>8.75</td>\n",
       "      <td>01</td>\n",
       "      <td>NaN</td>\n",
       "      <td>NaN</td>\n",
       "    </tr>\n",
       "    <tr>\n",
       "      <th>3</th>\n",
       "      <td>01000004</td>\n",
       "      <td>7.4</td>\n",
       "      <td>7.50</td>\n",
       "      <td>8.6</td>\n",
       "      <td>NaN</td>\n",
       "      <td>NaN</td>\n",
       "      <td>NaN</td>\n",
       "      <td>7.50</td>\n",
       "      <td>6.5</td>\n",
       "      <td>7.50</td>\n",
       "      <td>01</td>\n",
       "      <td>NaN</td>\n",
       "      <td>NaN</td>\n",
       "    </tr>\n",
       "    <tr>\n",
       "      <th>4</th>\n",
       "      <td>01000005</td>\n",
       "      <td>7.2</td>\n",
       "      <td>8.50</td>\n",
       "      <td>9.0</td>\n",
       "      <td>NaN</td>\n",
       "      <td>NaN</td>\n",
       "      <td>NaN</td>\n",
       "      <td>8.00</td>\n",
       "      <td>8.5</td>\n",
       "      <td>8.25</td>\n",
       "      <td>01</td>\n",
       "      <td>NaN</td>\n",
       "      <td>NaN</td>\n",
       "    </tr>\n",
       "  </tbody>\n",
       "</table>\n",
       "</div>"
      ],
      "text/plain": [
       "        sbd  toan  ngu_van  ngoai_ngu  vat_li  hoa_hoc  sinh_hoc  lich_su  \\\n",
       "0  01000001   3.6     5.00        4.0     NaN      NaN       NaN     2.75   \n",
       "1  01000002   8.4     6.75        7.6     NaN      NaN       NaN     8.50   \n",
       "2  01000003   5.8     7.50        5.0     NaN      NaN       NaN     7.25   \n",
       "3  01000004   7.4     7.50        8.6     NaN      NaN       NaN     7.50   \n",
       "4  01000005   7.2     8.50        9.0     NaN      NaN       NaN     8.00   \n",
       "\n",
       "   dia_li  gdcd ma_tinh  a00  a01  \n",
       "0     6.0  8.75      01  NaN  NaN  \n",
       "1     7.5  8.25      01  NaN  NaN  \n",
       "2     5.5  8.75      01  NaN  NaN  \n",
       "3     6.5  7.50      01  NaN  NaN  \n",
       "4     8.5  8.25      01  NaN  NaN  "
      ]
     },
     "execution_count": 16,
     "metadata": {},
     "output_type": "execute_result"
    }
   ],
   "source": [
    "df.head()"
   ]
  },
  {
   "cell_type": "markdown",
   "id": "e37e66ab",
   "metadata": {},
   "source": [
    "## So sánh phân phối điểm khối A00 và A01 của Hà Nội, Hồ Chí Minh và Khánh Hòa"
   ]
  },
  {
   "cell_type": "code",
   "execution_count": 17,
   "id": "a3810d39",
   "metadata": {},
   "outputs": [
    {
     "data": {
      "image/png": "[encoded data removed]",
      "text/plain": [
       "<Figure size 1080x360 with 1 Axes>"
      ]
     },
     "metadata": {
      "needs_background": "light"
     },
     "output_type": "display_data"
    }
   ],
   "source": [
    "for ma_tinh in ['01', '02', '41']:\n",
    "    df[df['ma_tinh'] == ma_tinh].a00.hist(bins = 51, figsize = (15,5))"
   ]
  },
  {
   "cell_type": "code",
   "execution_count": 18,
   "id": "7ed024a5",
   "metadata": {},
   "outputs": [
    {
     "data": {
      "image/png": "[encoded data removed]",
      "text/plain": [
       "<Figure size 1080x360 with 1 Axes>"
      ]
     },
     "metadata": {
      "needs_background": "light"
     },
     "output_type": "display_data"
    }
   ],
   "source": [
    "for ma_tinh in ['01', '02', '41']:\n",
    "    df[df['ma_tinh'] == ma_tinh].a01.hist(bins = 51, figsize = (15,5))"
   ]
  },
  {
   "cell_type": "markdown",
   "id": "de45971c",
   "metadata": {},
   "source": [
    "## Lọc bảng dữ liệu của Khánh Hòa"
   ]
  },
  {
   "cell_type": "code",
   "execution_count": 19,
   "id": "40541317",
   "metadata": {},
   "outputs": [],
   "source": [
    "khanh_hoa = df[(df.ma_tinh == '41')]"
   ]
  },
  {
   "cell_type": "code",
   "execution_count": 20,
   "id": "d68ba55c",
   "metadata": {},
   "outputs": [
    {
     "data": {
      "text/html": [
       "<div>\n",
       "<style scoped>\n",
       "    .dataframe tbody tr th:only-of-type {\n",
       "        vertical-align: middle;\n",
       "    }\n",
       "\n",
       "    .dataframe tbody tr th {\n",
       "        vertical-align: top;\n",
       "    }\n",
       "\n",
       "    .dataframe thead th {\n",
       "        text-align: right;\n",
       "    }\n",
       "</style>\n",
       "<table border=\"1\" class=\"dataframe\">\n",
       "  <thead>\n",
       "    <tr style=\"text-align: right;\">\n",
       "      <th></th>\n",
       "      <th>sbd</th>\n",
       "      <th>toan</th>\n",
       "      <th>ngu_van</th>\n",
       "      <th>ngoai_ngu</th>\n",
       "      <th>vat_li</th>\n",
       "      <th>hoa_hoc</th>\n",
       "      <th>sinh_hoc</th>\n",
       "      <th>lich_su</th>\n",
       "      <th>dia_li</th>\n",
       "      <th>gdcd</th>\n",
       "      <th>ma_tinh</th>\n",
       "      <th>a00</th>\n",
       "      <th>a01</th>\n",
       "    </tr>\n",
       "  </thead>\n",
       "  <tbody>\n",
       "    <tr>\n",
       "      <th>701952</th>\n",
       "      <td>41000001</td>\n",
       "      <td>4.6</td>\n",
       "      <td>6.50</td>\n",
       "      <td>4.8</td>\n",
       "      <td>NaN</td>\n",
       "      <td>NaN</td>\n",
       "      <td>NaN</td>\n",
       "      <td>8.75</td>\n",
       "      <td>8.75</td>\n",
       "      <td>8.50</td>\n",
       "      <td>41</td>\n",
       "      <td>NaN</td>\n",
       "      <td>NaN</td>\n",
       "    </tr>\n",
       "    <tr>\n",
       "      <th>701953</th>\n",
       "      <td>41000002</td>\n",
       "      <td>6.4</td>\n",
       "      <td>3.50</td>\n",
       "      <td>4.4</td>\n",
       "      <td>7.00</td>\n",
       "      <td>7.00</td>\n",
       "      <td>7.50</td>\n",
       "      <td>NaN</td>\n",
       "      <td>NaN</td>\n",
       "      <td>NaN</td>\n",
       "      <td>41</td>\n",
       "      <td>20.40</td>\n",
       "      <td>17.80</td>\n",
       "    </tr>\n",
       "    <tr>\n",
       "      <th>701954</th>\n",
       "      <td>41000003</td>\n",
       "      <td>3.0</td>\n",
       "      <td>5.75</td>\n",
       "      <td>2.4</td>\n",
       "      <td>NaN</td>\n",
       "      <td>NaN</td>\n",
       "      <td>NaN</td>\n",
       "      <td>5.25</td>\n",
       "      <td>4.50</td>\n",
       "      <td>4.50</td>\n",
       "      <td>41</td>\n",
       "      <td>NaN</td>\n",
       "      <td>NaN</td>\n",
       "    </tr>\n",
       "    <tr>\n",
       "      <th>701955</th>\n",
       "      <td>41000004</td>\n",
       "      <td>4.4</td>\n",
       "      <td>5.75</td>\n",
       "      <td>3.2</td>\n",
       "      <td>NaN</td>\n",
       "      <td>NaN</td>\n",
       "      <td>NaN</td>\n",
       "      <td>7.50</td>\n",
       "      <td>5.75</td>\n",
       "      <td>8.25</td>\n",
       "      <td>41</td>\n",
       "      <td>NaN</td>\n",
       "      <td>NaN</td>\n",
       "    </tr>\n",
       "    <tr>\n",
       "      <th>701956</th>\n",
       "      <td>41000005</td>\n",
       "      <td>3.6</td>\n",
       "      <td>7.25</td>\n",
       "      <td>3.6</td>\n",
       "      <td>NaN</td>\n",
       "      <td>NaN</td>\n",
       "      <td>NaN</td>\n",
       "      <td>6.00</td>\n",
       "      <td>5.50</td>\n",
       "      <td>8.00</td>\n",
       "      <td>41</td>\n",
       "      <td>NaN</td>\n",
       "      <td>NaN</td>\n",
       "    </tr>\n",
       "    <tr>\n",
       "      <th>...</th>\n",
       "      <td>...</td>\n",
       "      <td>...</td>\n",
       "      <td>...</td>\n",
       "      <td>...</td>\n",
       "      <td>...</td>\n",
       "      <td>...</td>\n",
       "      <td>...</td>\n",
       "      <td>...</td>\n",
       "      <td>...</td>\n",
       "      <td>...</td>\n",
       "      <td>...</td>\n",
       "      <td>...</td>\n",
       "      <td>...</td>\n",
       "    </tr>\n",
       "    <tr>\n",
       "      <th>715972</th>\n",
       "      <td>41014088</td>\n",
       "      <td>6.0</td>\n",
       "      <td>3.25</td>\n",
       "      <td>2.8</td>\n",
       "      <td>NaN</td>\n",
       "      <td>NaN</td>\n",
       "      <td>NaN</td>\n",
       "      <td>5.00</td>\n",
       "      <td>6.00</td>\n",
       "      <td>7.75</td>\n",
       "      <td>41</td>\n",
       "      <td>NaN</td>\n",
       "      <td>NaN</td>\n",
       "    </tr>\n",
       "    <tr>\n",
       "      <th>715973</th>\n",
       "      <td>41014089</td>\n",
       "      <td>7.2</td>\n",
       "      <td>6.25</td>\n",
       "      <td>4.8</td>\n",
       "      <td>NaN</td>\n",
       "      <td>NaN</td>\n",
       "      <td>NaN</td>\n",
       "      <td>7.25</td>\n",
       "      <td>7.75</td>\n",
       "      <td>9.25</td>\n",
       "      <td>41</td>\n",
       "      <td>NaN</td>\n",
       "      <td>NaN</td>\n",
       "    </tr>\n",
       "    <tr>\n",
       "      <th>715974</th>\n",
       "      <td>41014090</td>\n",
       "      <td>7.8</td>\n",
       "      <td>6.00</td>\n",
       "      <td>4.8</td>\n",
       "      <td>8.00</td>\n",
       "      <td>8.75</td>\n",
       "      <td>5.25</td>\n",
       "      <td>NaN</td>\n",
       "      <td>NaN</td>\n",
       "      <td>NaN</td>\n",
       "      <td>41</td>\n",
       "      <td>24.55</td>\n",
       "      <td>20.60</td>\n",
       "    </tr>\n",
       "    <tr>\n",
       "      <th>715975</th>\n",
       "      <td>41014091</td>\n",
       "      <td>7.4</td>\n",
       "      <td>6.50</td>\n",
       "      <td>4.6</td>\n",
       "      <td>8.25</td>\n",
       "      <td>8.25</td>\n",
       "      <td>4.75</td>\n",
       "      <td>NaN</td>\n",
       "      <td>NaN</td>\n",
       "      <td>NaN</td>\n",
       "      <td>41</td>\n",
       "      <td>23.90</td>\n",
       "      <td>20.25</td>\n",
       "    </tr>\n",
       "    <tr>\n",
       "      <th>715976</th>\n",
       "      <td>41014092</td>\n",
       "      <td>7.8</td>\n",
       "      <td>5.50</td>\n",
       "      <td>5.8</td>\n",
       "      <td>7.00</td>\n",
       "      <td>4.75</td>\n",
       "      <td>5.25</td>\n",
       "      <td>NaN</td>\n",
       "      <td>NaN</td>\n",
       "      <td>NaN</td>\n",
       "      <td>41</td>\n",
       "      <td>19.55</td>\n",
       "      <td>20.60</td>\n",
       "    </tr>\n",
       "  </tbody>\n",
       "</table>\n",
       "<p>14025 rows × 13 columns</p>\n",
       "</div>"
      ],
      "text/plain": [
       "             sbd  toan  ngu_van  ngoai_ngu  vat_li  hoa_hoc  sinh_hoc  \\\n",
       "701952  41000001   4.6     6.50        4.8     NaN      NaN       NaN   \n",
       "701953  41000002   6.4     3.50        4.4    7.00     7.00      7.50   \n",
       "701954  41000003   3.0     5.75        2.4     NaN      NaN       NaN   \n",
       "701955  41000004   4.4     5.75        3.2     NaN      NaN       NaN   \n",
       "701956  41000005   3.6     7.25        3.6     NaN      NaN       NaN   \n",
       "...          ...   ...      ...        ...     ...      ...       ...   \n",
       "715972  41014088   6.0     3.25        2.8     NaN      NaN       NaN   \n",
       "715973  41014089   7.2     6.25        4.8     NaN      NaN       NaN   \n",
       "715974  41014090   7.8     6.00        4.8    8.00     8.75      5.25   \n",
       "715975  41014091   7.4     6.50        4.6    8.25     8.25      4.75   \n",
       "715976  41014092   7.8     5.50        5.8    7.00     4.75      5.25   \n",
       "\n",
       "        lich_su  dia_li  gdcd ma_tinh    a00    a01  \n",
       "701952     8.75    8.75  8.50      41    NaN    NaN  \n",
       "701953      NaN     NaN   NaN      41  20.40  17.80  \n",
       "701954     5.25    4.50  4.50      41    NaN    NaN  \n",
       "701955     7.50    5.75  8.25      41    NaN    NaN  \n",
       "701956     6.00    5.50  8.00      41    NaN    NaN  \n",
       "...         ...     ...   ...     ...    ...    ...  \n",
       "715972     5.00    6.00  7.75      41    NaN    NaN  \n",
       "715973     7.25    7.75  9.25      41    NaN    NaN  \n",
       "715974      NaN     NaN   NaN      41  24.55  20.60  \n",
       "715975      NaN     NaN   NaN      41  23.90  20.25  \n",
       "715976      NaN     NaN   NaN      41  19.55  20.60  \n",
       "\n",
       "[14025 rows x 13 columns]"
      ]
     },
     "execution_count": 20,
     "metadata": {},
     "output_type": "execute_result"
    }
   ],
   "source": [
    "khanh_hoa"
   ]
  },
  {
   "cell_type": "markdown",
   "id": "8546eb63",
   "metadata": {},
   "source": [
    "## Function vui vẻ để tính vị trí của thí sinh"
   ]
  },
  {
   "cell_type": "code",
   "execution_count": 21,
   "id": "924a2a78",
   "metadata": {},
   "outputs": [],
   "source": [
    "def percentage(sbd, khoi):\n",
    "    thi_sinh = df[df.sbd == sbd]\n",
    "    diem = thi_sinh[khoi].values[0]\n",
    "    ma_tinh = thi_sinh.ma_tinh.values[0]\n",
    "    df_tinh = df[(df.ma_tinh == ma_tinh)]\n",
    "    ti_le_tinh = len(df_tinh[(df_tinh[khoi] >= diem)]) / len(df_tinh[(df_tinh[khoi] >= 0)])\n",
    "    ti_le_quoc_gia = len(df[(df[khoi] >= diem)]) / len(df[(df[khoi] >= 0)])\n",
    "    \n",
    "    print('''Điểm khối {} của thí sinh {} là: {}. Thuộc top:\n",
    "    {:%} tỉnh\n",
    "    {:%} quốc gia'''.format(khoi, sbd, diem, ti_le_tinh, ti_le_quoc_gia))"
   ]
  },
  {
   "cell_type": "code",
   "execution_count": 22,
   "id": "3dd13ef6",
   "metadata": {},
   "outputs": [
    {
     "name": "stdout",
     "output_type": "stream",
     "text": [
      "Điểm khối a00 của thí sinh 41009866 là: 26.0. Thuộc top:\n",
      "    2.289696% tỉnh\n",
      "    4.022269% quốc gia\n"
     ]
    }
   ],
   "source": [
    "percentage('41009866', 'a00')"
   ]
  },
  {
   "cell_type": "code",
   "execution_count": 23,
   "id": "9891a0bc",
   "metadata": {},
   "outputs": [
    {
     "name": "stdout",
     "output_type": "stream",
     "text": [
      "Điểm khối a01 của thí sinh 41009866 là: 25.95. Thuộc top:\n",
      "    2.522154% tỉnh\n",
      "    3.512577% quốc gia\n"
     ]
    }
   ],
   "source": [
    "percentage('41009866', 'a01')"
   ]
  }
 ],
 "metadata": {
  "kernelspec": {
   "display_name": "Python 3 (ipykernel)",
   "language": "python",
   "name": "python3"
  },
  "language_info": {
   "codemirror_mode": {
    "name": "ipython",
    "version": 3
   },
   "file_extension": ".py",
   "mimetype": "text/x-python",
   "name": "python",
   "nbconvert_exporter": "python",
   "pygments_lexer": "ipython3",
   "version": "3.10.5"
  }
 },
 "nbformat": 4,
 "nbformat_minor": 5
}
